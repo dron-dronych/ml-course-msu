{
 "cells": [
  {
   "cell_type": "markdown",
   "metadata": {},
   "source": [
    "# Семинар 7. Практика. Отбор признаков"
   ]
  },
  {
   "cell_type": "code",
   "execution_count": 1,
   "metadata": {
    "collapsed": true
   },
   "outputs": [],
   "source": [
    "import numpy as np\n",
    "import pandas as pd\n",
    "import matplotlib.pyplot as plt\n",
    "%matplotlib inline"
   ]
  },
  {
   "cell_type": "markdown",
   "metadata": {},
   "source": [
    "## Данные"
   ]
  },
  {
   "cell_type": "markdown",
   "metadata": {},
   "source": [
    "Данные: https://www.kaggle.com/c/bioresponse/data"
   ]
  },
  {
   "cell_type": "code",
   "execution_count": 2,
   "metadata": {
    "collapsed": false
   },
   "outputs": [
    {
     "data": {
      "text/html": [
       "<div style=\"max-height:1000px;max-width:1500px;overflow:auto;\">\n",
       "<table border=\"1\" class=\"dataframe\">\n",
       "  <thead>\n",
       "    <tr style=\"text-align: right;\">\n",
       "      <th></th>\n",
       "      <th>Activity</th>\n",
       "      <th>D1</th>\n",
       "      <th>D2</th>\n",
       "      <th>D3</th>\n",
       "      <th>D4</th>\n",
       "      <th>D5</th>\n",
       "      <th>D6</th>\n",
       "      <th>D7</th>\n",
       "      <th>D8</th>\n",
       "      <th>D9</th>\n",
       "      <th>...</th>\n",
       "      <th>D1767</th>\n",
       "      <th>D1768</th>\n",
       "      <th>D1769</th>\n",
       "      <th>D1770</th>\n",
       "      <th>D1771</th>\n",
       "      <th>D1772</th>\n",
       "      <th>D1773</th>\n",
       "      <th>D1774</th>\n",
       "      <th>D1775</th>\n",
       "      <th>D1776</th>\n",
       "    </tr>\n",
       "  </thead>\n",
       "  <tbody>\n",
       "    <tr>\n",
       "      <th>0</th>\n",
       "      <td>1</td>\n",
       "      <td>0.000000</td>\n",
       "      <td>0.497009</td>\n",
       "      <td>0.10</td>\n",
       "      <td>0.0</td>\n",
       "      <td>0.132956</td>\n",
       "      <td>0.678031</td>\n",
       "      <td>0.273166</td>\n",
       "      <td>0.585445</td>\n",
       "      <td>0.743663</td>\n",
       "      <td>...</td>\n",
       "      <td>0</td>\n",
       "      <td>0</td>\n",
       "      <td>0</td>\n",
       "      <td>0</td>\n",
       "      <td>0</td>\n",
       "      <td>0</td>\n",
       "      <td>0</td>\n",
       "      <td>0</td>\n",
       "      <td>0</td>\n",
       "      <td>0</td>\n",
       "    </tr>\n",
       "    <tr>\n",
       "      <th>1</th>\n",
       "      <td>1</td>\n",
       "      <td>0.366667</td>\n",
       "      <td>0.606291</td>\n",
       "      <td>0.05</td>\n",
       "      <td>0.0</td>\n",
       "      <td>0.111209</td>\n",
       "      <td>0.803455</td>\n",
       "      <td>0.106105</td>\n",
       "      <td>0.411754</td>\n",
       "      <td>0.836582</td>\n",
       "      <td>...</td>\n",
       "      <td>1</td>\n",
       "      <td>1</td>\n",
       "      <td>1</td>\n",
       "      <td>1</td>\n",
       "      <td>0</td>\n",
       "      <td>1</td>\n",
       "      <td>0</td>\n",
       "      <td>0</td>\n",
       "      <td>1</td>\n",
       "      <td>0</td>\n",
       "    </tr>\n",
       "    <tr>\n",
       "      <th>2</th>\n",
       "      <td>1</td>\n",
       "      <td>0.033300</td>\n",
       "      <td>0.480124</td>\n",
       "      <td>0.00</td>\n",
       "      <td>0.0</td>\n",
       "      <td>0.209791</td>\n",
       "      <td>0.610350</td>\n",
       "      <td>0.356453</td>\n",
       "      <td>0.517720</td>\n",
       "      <td>0.679051</td>\n",
       "      <td>...</td>\n",
       "      <td>0</td>\n",
       "      <td>0</td>\n",
       "      <td>0</td>\n",
       "      <td>0</td>\n",
       "      <td>0</td>\n",
       "      <td>0</td>\n",
       "      <td>0</td>\n",
       "      <td>0</td>\n",
       "      <td>0</td>\n",
       "      <td>0</td>\n",
       "    </tr>\n",
       "    <tr>\n",
       "      <th>3</th>\n",
       "      <td>1</td>\n",
       "      <td>0.000000</td>\n",
       "      <td>0.538825</td>\n",
       "      <td>0.00</td>\n",
       "      <td>0.5</td>\n",
       "      <td>0.196344</td>\n",
       "      <td>0.724230</td>\n",
       "      <td>0.235606</td>\n",
       "      <td>0.288764</td>\n",
       "      <td>0.805110</td>\n",
       "      <td>...</td>\n",
       "      <td>0</td>\n",
       "      <td>0</td>\n",
       "      <td>0</td>\n",
       "      <td>0</td>\n",
       "      <td>0</td>\n",
       "      <td>0</td>\n",
       "      <td>0</td>\n",
       "      <td>0</td>\n",
       "      <td>0</td>\n",
       "      <td>0</td>\n",
       "    </tr>\n",
       "    <tr>\n",
       "      <th>4</th>\n",
       "      <td>0</td>\n",
       "      <td>0.100000</td>\n",
       "      <td>0.517794</td>\n",
       "      <td>0.00</td>\n",
       "      <td>0.0</td>\n",
       "      <td>0.494734</td>\n",
       "      <td>0.781422</td>\n",
       "      <td>0.154361</td>\n",
       "      <td>0.303809</td>\n",
       "      <td>0.812646</td>\n",
       "      <td>...</td>\n",
       "      <td>0</td>\n",
       "      <td>0</td>\n",
       "      <td>0</td>\n",
       "      <td>0</td>\n",
       "      <td>0</td>\n",
       "      <td>0</td>\n",
       "      <td>0</td>\n",
       "      <td>0</td>\n",
       "      <td>0</td>\n",
       "      <td>0</td>\n",
       "    </tr>\n",
       "  </tbody>\n",
       "</table>\n",
       "<p>5 rows × 1777 columns</p>\n",
       "</div>"
      ],
      "text/plain": [
       "   Activity        D1        D2    D3   D4        D5        D6        D7  \\\n",
       "0         1  0.000000  0.497009  0.10  0.0  0.132956  0.678031  0.273166   \n",
       "1         1  0.366667  0.606291  0.05  0.0  0.111209  0.803455  0.106105   \n",
       "2         1  0.033300  0.480124  0.00  0.0  0.209791  0.610350  0.356453   \n",
       "3         1  0.000000  0.538825  0.00  0.5  0.196344  0.724230  0.235606   \n",
       "4         0  0.100000  0.517794  0.00  0.0  0.494734  0.781422  0.154361   \n",
       "\n",
       "         D8        D9  ...    D1767  D1768  D1769  D1770  D1771  D1772  D1773  \\\n",
       "0  0.585445  0.743663  ...        0      0      0      0      0      0      0   \n",
       "1  0.411754  0.836582  ...        1      1      1      1      0      1      0   \n",
       "2  0.517720  0.679051  ...        0      0      0      0      0      0      0   \n",
       "3  0.288764  0.805110  ...        0      0      0      0      0      0      0   \n",
       "4  0.303809  0.812646  ...        0      0      0      0      0      0      0   \n",
       "\n",
       "   D1774  D1775  D1776  \n",
       "0      0      0      0  \n",
       "1      0      1      0  \n",
       "2      0      0      0  \n",
       "3      0      0      0  \n",
       "4      0      0      0  \n",
       "\n",
       "[5 rows x 1777 columns]"
      ]
     },
     "execution_count": 2,
     "metadata": {},
     "output_type": "execute_result"
    }
   ],
   "source": [
    "data = pd.read_csv('bioresponse.csv')\n",
    "data.head()"
   ]
  },
  {
   "cell_type": "code",
   "execution_count": 3,
   "metadata": {
    "collapsed": false
   },
   "outputs": [
    {
     "data": {
      "text/plain": [
       "(3751, 1777)"
      ]
     },
     "execution_count": 3,
     "metadata": {},
     "output_type": "execute_result"
    }
   ],
   "source": [
    "data.shape"
   ]
  },
  {
   "cell_type": "code",
   "execution_count": 4,
   "metadata": {
    "collapsed": false
   },
   "outputs": [],
   "source": [
    "from sklearn.cross_validation import train_test_split\n",
    "X, X_test, y, y_test = train_test_split(data.iloc[:, 1:].values, data.iloc[:, 0].values, test_size=0.3)"
   ]
  },
  {
   "cell_type": "code",
   "execution_count": 5,
   "metadata": {
    "collapsed": false
   },
   "outputs": [
    {
     "data": {
      "text/plain": [
       "(2625, 1776)"
      ]
     },
     "execution_count": 5,
     "metadata": {},
     "output_type": "execute_result"
    }
   ],
   "source": [
    "X.shape"
   ]
  },
  {
   "cell_type": "code",
   "execution_count": 6,
   "metadata": {
    "collapsed": false
   },
   "outputs": [
    {
     "data": {
      "text/plain": [
       "[]"
      ]
     },
     "execution_count": 6,
     "metadata": {},
     "output_type": "execute_result"
    },
    {
     "data": {
      "image/png": "[encoded data removed]",
      "text/plain": [
       "<matplotlib.figure.Figure at 0x10c371450>"
      ]
     },
     "metadata": {},
     "output_type": "display_data"
    }
   ],
   "source": [
    "plt.hist(y)\n",
    "plt.plot()"
   ]
  },
  {
   "cell_type": "markdown",
   "metadata": {},
   "source": [
    "## Модели без отбора признаков"
   ]
  },
  {
   "cell_type": "code",
   "execution_count": 7,
   "metadata": {
    "collapsed": true
   },
   "outputs": [],
   "source": [
    "from sklearn import linear_model, ensemble, metrics"
   ]
  },
  {
   "cell_type": "code",
   "execution_count": 8,
   "metadata": {
    "collapsed": false
   },
   "outputs": [
    {
     "name": "stdout",
     "output_type": "stream",
     "text": [
      "0.833415147265\n"
     ]
    }
   ],
   "source": [
    "clf = linear_model.LogisticRegression(C=0.1)\n",
    "clf.fit(X, y)\n",
    "print metrics.roc_auc_score(y_test, clf.predict_proba(X_test)[:, 1])"
   ]
  },
  {
   "cell_type": "code",
   "execution_count": 9,
   "metadata": {
    "collapsed": false
   },
   "outputs": [
    {
     "name": "stdout",
     "output_type": "stream",
     "text": [
      "0.822615708275\n",
      "460\n"
     ]
    }
   ],
   "source": [
    "clf = linear_model.LogisticRegression(penalty='l1', C=1)\n",
    "clf.fit(X, y)\n",
    "print metrics.roc_auc_score(y_test, clf.predict_proba(X_test)[:, 1])\n",
    "print np.sum(clf.coef_ != 0)"
   ]
  },
  {
   "cell_type": "code",
   "execution_count": 10,
   "metadata": {
    "collapsed": false
   },
   "outputs": [
    {
     "name": "stdout",
     "output_type": "stream",
     "text": [
      "0.875798482723\n"
     ]
    }
   ],
   "source": [
    "clf = ensemble.RandomForestClassifier(n_estimators=100)\n",
    "clf.fit(X, y)\n",
    "print metrics.roc_auc_score(y_test, clf.predict_proba(X_test)[:, 1])"
   ]
  },
  {
   "cell_type": "code",
   "execution_count": 11,
   "metadata": {
    "collapsed": false
   },
   "outputs": [
    {
     "name": "stdout",
     "output_type": "stream",
     "text": [
      "0.884760295805\n"
     ]
    }
   ],
   "source": [
    "from xgboost import XGBClassifier\n",
    "clf = XGBClassifier(n_estimators=500, learning_rate=0.1, max_depth=6)\n",
    "clf.fit(X, y)\n",
    "print metrics.roc_auc_score(y_test, clf.predict_proba(X_test)[:, 1])"
   ]
  },
  {
   "cell_type": "markdown",
   "metadata": {},
   "source": [
    "## Отбор признаков"
   ]
  },
  {
   "cell_type": "markdown",
   "metadata": {},
   "source": [
    "#### Признаки с низкой дисперсией"
   ]
  },
  {
   "cell_type": "code",
   "execution_count": 12,
   "metadata": {
    "collapsed": false
   },
   "outputs": [],
   "source": [
    "low_var_idx = np.std(X, axis=0).argsort()"
   ]
  },
  {
   "cell_type": "code",
   "execution_count": 13,
   "metadata": {
    "collapsed": false
   },
   "outputs": [
    {
     "data": {
      "text/plain": [
       "array([ 71, 301, 822, 398, 800, 566, 631, 570, 858, 736])"
      ]
     },
     "execution_count": 13,
     "metadata": {},
     "output_type": "execute_result"
    }
   ],
   "source": [
    "low_var_idx[:10]"
   ]
  },
  {
   "cell_type": "code",
   "execution_count": 14,
   "metadata": {
    "collapsed": false
   },
   "outputs": [
    {
     "data": {
      "text/plain": [
       "array([ 0.        ,  0.00322318,  0.00325238,  0.00436436,  0.00440223,\n",
       "        0.00730571,  0.00760465,  0.00843812,  0.00872572,  0.00974738,\n",
       "        0.01031258,  0.01061659,  0.01062366,  0.01103189,  0.01125727,\n",
       "        0.0114324 ,  0.01156215,  0.01159247,  0.01172044,  0.01228897,\n",
       "        0.01256305,  0.0128993 ,  0.01300208,  0.01302236,  0.01330661,\n",
       "        0.01366924,  0.01377513,  0.01403092,  0.01414298,  0.01420022,\n",
       "        0.01427463,  0.01502841,  0.01524947,  0.01541593,  0.01571087,\n",
       "        0.01576284,  0.01591197,  0.0167016 ,  0.01689724,  0.01701592,\n",
       "        0.01715649,  0.01754967,  0.01758065,  0.0175929 ,  0.01760167,\n",
       "        0.01775386,  0.01779511,  0.01785508,  0.01786958,  0.01832585])"
      ]
     },
     "execution_count": 14,
     "metadata": {},
     "output_type": "execute_result"
    }
   ],
   "source": [
    "np.std(X, axis=0)[low_var_idx][:50]"
   ]
  },
  {
   "cell_type": "code",
   "execution_count": 15,
   "metadata": {
    "collapsed": false,
    "scrolled": true
   },
   "outputs": [
    {
     "data": {
      "image/png": "[encoded data removed]",
      "text/plain": [
       "<matplotlib.figure.Figure at 0x11e315950>"
      ]
     },
     "metadata": {},
     "output_type": "display_data"
    }
   ],
   "source": [
    "plt.hist(X[:, low_var_idx[3]], bins=100)\n",
    "plt.show()"
   ]
  },
  {
   "cell_type": "code",
   "execution_count": 16,
   "metadata": {
    "collapsed": false
   },
   "outputs": [
    {
     "data": {
      "text/plain": [
       "21"
      ]
     },
     "execution_count": 16,
     "metadata": {},
     "output_type": "execute_result"
    }
   ],
   "source": [
    "np.sum(X[:, low_var_idx[3]] > 0)"
   ]
  },
  {
   "cell_type": "code",
   "execution_count": 17,
   "metadata": {
    "collapsed": false
   },
   "outputs": [
    {
     "data": {
      "text/plain": [
       "16"
      ]
     },
     "execution_count": 17,
     "metadata": {},
     "output_type": "execute_result"
    }
   ],
   "source": [
    "np.sum(X[:, low_var_idx[10]] > 0)"
   ]
  },
  {
   "cell_type": "code",
   "execution_count": 18,
   "metadata": {
    "collapsed": false
   },
   "outputs": [
    {
     "name": "stdout",
     "output_type": "stream",
     "text": [
      "0 0.833408772154\n",
      "10 0.833383271707\n",
      "20 0.833402397042\n",
      "30 0.833383271707\n",
      "40 0.833360958817\n",
      "50 0.833306770368\n",
      "60 0.833265332143\n",
      "70 0.833227081474\n",
      "80 0.833227081474\n",
      "90 0.83319201836\n",
      "100 0.833204768583\n",
      "110 0.833211143695\n",
      "120 0.833284457478\n",
      "130 0.833262144588\n",
      "140 0.833233456585\n",
      "150 0.833335458371\n",
      "160 0.833262144588\n",
      "170 0.833306770368\n",
      "180 0.833281269922\n",
      "190 0.833268519699\n",
      "200 0.833147392579\n",
      "210 0.833134642356\n",
      "220 0.833125079689\n",
      "230 0.833166517914\n",
      "240 0.833112329466\n",
      "250 0.833099579243\n",
      "260 0.833080453908\n",
      "270 0.83302626546\n",
      "280 0.8329657019\n",
      "290 0.83292745123\n",
      "300 0.8329657019\n",
      "310 0.832937013898\n",
      "320 0.832994389902\n",
      "330 0.833007140125\n",
      "340 0.832991202346\n",
      "350 0.832968889456\n",
      "360 0.832994389902\n",
      "370 0.833032640571\n",
      "380 0.832933826342\n",
      "390 0.832946576565\n",
      "400 0.832873262782\n",
      "410 0.832815886778\n",
      "420 0.832803136555\n",
      "430 0.83272344766\n",
      "440 0.832758510774\n",
      "450 0.832653321433\n",
      "460 0.832627820987\n",
      "470 0.832560882315\n",
      "480 0.832509881423\n",
      "490 0.832462068086\n",
      "500 0.832573632539\n",
      "510 0.83264057121\n",
      "520 0.832720260105\n",
      "530 0.832678821879\n",
      "540 0.832538569425\n",
      "550 0.832525819202\n",
      "560 0.832554507204\n",
      "570 0.832484380977\n",
      "580 0.832407879638\n",
      "590 0.832439755196\n",
      "600 0.832442942751\n",
      "610 0.832471630754\n",
      "620 0.832277189851\n",
      "630 0.831993497386\n",
      "640 0.831910620936\n",
      "650 0.831799056483\n",
      "660 0.831834119597\n",
      "670 0.831767180926\n",
      "680 0.831744868035\n",
      "690 0.831585490246\n",
      "700 0.831655616473\n",
      "710 0.831626928471\n",
      "720 0.831716180033\n",
      "730 0.831658804029\n",
      "740 0.831387861788\n",
      "750 0.831247609333\n",
      "760 0.831180670662\n",
      "770 0.830998979982\n",
      "780 0.830785413745\n",
      "790 0.830386969272\n",
      "800 0.830568659952\n",
      "810 0.830249904373\n",
      "820 0.830457095499\n",
      "830 0.830240341706\n",
      "840 0.82991202346\n",
      "850 0.829892898126\n",
      "860 0.82976858345\n",
      "870 0.829790896341\n",
      "880 0.829459390539\n",
      "890 0.829765395894\n",
      "900 0.82976858345\n",
      "910 0.829787708785\n",
      "920 0.828378809129\n",
      "930 0.828206681117\n",
      "940 0.828315058014\n",
      "950 0.828031365549\n",
      "960 0.826928471248\n",
      "970 0.826992222364\n",
      "980 0.82669259212\n",
      "990 0.826354711207\n",
      "1000 0.82669259212\n",
      "1010 0.826443962769\n",
      "1020 0.826023205406\n",
      "1030 0.826016830295\n",
      "1040 0.825905265842\n",
      "1050 0.82611883208\n",
      "1060 0.825962641846\n",
      "1070 0.825063751116\n",
      "1080 0.825098814229\n",
      "1090 0.825114752008\n",
      "1100 0.825465383144\n",
      "1110 0.825296442688\n",
      "1120 0.825576947597\n",
      "1130 0.825576947597\n",
      "1140 0.825213566237\n",
      "1150 0.825392069361\n",
      "1160 0.825994517404\n",
      "1170 0.825105189341\n",
      "1180 0.825098814229\n",
      "1190 0.825484508479\n",
      "1200 0.825156190233\n",
      "1210 0.82508287645\n",
      "1220 0.824690807089\n",
      "1230 0.824751370649\n",
      "1240 0.824792808874\n",
      "1250 0.823661226571\n",
      "1260 0.82351141145\n",
      "1270 0.823087466531\n",
      "1280 0.823482723448\n",
      "1290 0.824180798164\n",
      "1300 0.824595180416\n",
      "1310 0.823635726125\n",
      "1320 0.824066046156\n",
      "1330 0.823721790131\n",
      "1340 0.823106591865\n",
      "1350 0.823600663012\n",
      "1360 0.8240628586\n",
      "1370 0.819692719623\n",
      "1380 0.819291087594\n",
      "1390 0.818666326661\n",
      "1400 0.818860767563\n",
      "1410 0.819103021803\n",
      "1420 0.818121254622\n",
      "1430 0.817410429683\n",
      "1440 0.817349866123\n",
      "1450 0.816466913171\n",
      "1460 0.815714650006\n",
      "1470 0.816753793191\n",
      "1480 0.817738747928\n",
      "1490 0.817172956777\n",
      "1500 0.81586287135\n",
      "1510 0.815384737983\n",
      "1520 0.813271388499\n",
      "1530 0.81463088104\n",
      "1540 0.813900930766\n",
      "1550 0.814736070381\n",
      "1560 0.812284839985\n",
      "1570 0.811156445238\n",
      "1580 0.810624123422\n",
      "1590 0.806512176463\n",
      "1600 0.805017212801\n",
      "1610 0.807312252964\n",
      "1620 0.803703939819\n",
      "1630 0.805363062604\n",
      "1640 0.804902460793\n",
      "1650 0.803488779804\n",
      "1660 0.801961940584\n",
      "1670 0.802497449955\n",
      "1680 0.799074015045\n",
      "1690 0.797285796251\n",
      "1700 0.78893599388\n",
      "1710 0.788099260487\n",
      "1720 0.787974945812\n",
      "1730 0.776354711207\n",
      "1740 0.782613476986\n",
      "1750 0.786583577713\n",
      "1760 0.765387925539\n",
      "1770 0.743422478643\n"
     ]
    }
   ],
   "source": [
    "quals = []\n",
    "for i in range(0, 1776, 10):\n",
    "    clf = linear_model.LogisticRegression(C=0.1)\n",
    "    clf.fit(X[:, low_var_idx[i:]], y)\n",
    "    q = metrics.roc_auc_score(y_test, clf.predict_proba(X_test[:, low_var_idx[i:]])[:, 1])\n",
    "    quals.append(q)\n",
    "    print i, q"
   ]
  },
  {
   "cell_type": "code",
   "execution_count": 19,
   "metadata": {
    "collapsed": false
   },
   "outputs": [
    {
     "data": {
      "image/png": "[encoded data removed]",
      "text/plain": [
       "<matplotlib.figure.Figure at 0x1125ffcd0>"
      ]
     },
     "metadata": {},
     "output_type": "display_data"
    }
   ],
   "source": [
    "plt.plot(range(0, 1776, 10), quals)\n",
    "plt.show()"
   ]
  },
  {
   "cell_type": "code",
   "execution_count": 20,
   "metadata": {
    "collapsed": false
   },
   "outputs": [
    {
     "name": "stdout",
     "output_type": "stream",
     "text": [
      "0 0.874961749331\n",
      "10 0.878499936249\n",
      "20 0.875304411577\n",
      "30 0.879241042968\n",
      "40 0.876944409027\n",
      "50 0.877511793956\n",
      "60 0.878224212674\n",
      "70 0.873050809639\n",
      "80 0.874907560882\n",
      "90 0.875290067576\n",
      "100 0.875484508479\n",
      "110 0.875741106719\n",
      "120 0.878276807344\n",
      "130 0.876359492541\n",
      "140 0.878466466913\n",
      "150 0.877202601046\n",
      "160 0.87434973862\n",
      "170 0.872987058524\n",
      "180 0.874442177738\n",
      "190 0.875486102257\n",
      "200 0.876220833865\n",
      "210 0.874724276425\n",
      "220 0.878032959327\n",
      "230 0.873071528752\n",
      "240 0.875339474691\n",
      "250 0.877322134387\n",
      "260 0.875130689787\n",
      "270 0.87568054316\n",
      "280 0.877357197501\n",
      "290 0.879319138085\n",
      "300 0.873729759021\n",
      "310 0.877534106847\n",
      "320 0.874483615963\n",
      "330 0.874480428407\n",
      "340 0.877057567257\n",
      "350 0.875428726253\n",
      "360 0.874451740405\n",
      "370 0.875296442688\n",
      "380 0.878723065154\n",
      "390 0.870771707255\n",
      "400 0.87502231289\n",
      "410 0.874569679969\n",
      "420 0.875304411577\n",
      "430 0.880552722173\n",
      "440 0.87455374219\n",
      "450 0.877295040163\n",
      "460 0.877003378809\n",
      "470 0.877527731735\n",
      "480 0.876831250797\n",
      "490 0.876122019635\n",
      "500 0.874558523524\n",
      "510 0.874722682647\n",
      "520 0.875572166263\n",
      "530 0.874231799056\n",
      "540 0.874190360831\n",
      "550 0.875074907561\n",
      "560 0.877301415275\n",
      "570 0.873986357261\n",
      "580 0.875554634706\n",
      "590 0.873940137702\n",
      "600 0.87424454928\n",
      "610 0.875634323601\n",
      "620 0.878313464236\n",
      "630 0.873398253219\n",
      "640 0.875290067576\n",
      "650 0.871205214841\n",
      "660 0.877303009053\n",
      "670 0.873756853245\n",
      "680 0.874451740405\n",
      "690 0.873536911896\n",
      "700 0.876007267627\n",
      "710 0.870225041438\n",
      "720 0.876005673849\n",
      "730 0.87579370139\n",
      "740 0.873866823919\n",
      "750 0.87345084789\n",
      "760 0.870384419227\n",
      "770 0.869267180926\n",
      "780 0.873589506566\n",
      "790 0.865682774449\n",
      "800 0.87411545327\n",
      "810 0.868887861788\n",
      "820 0.867542713247\n",
      "830 0.869303837817\n",
      "840 0.865013387734\n",
      "850 0.869844128522\n",
      "860 0.866715542522\n",
      "870 0.869689532067\n",
      "880 0.867270177228\n",
      "890 0.872805367844\n",
      "900 0.870543797016\n",
      "910 0.869965255642\n",
      "920 0.870672893026\n",
      "930 0.872652365166\n",
      "940 0.868620107102\n",
      "950 0.871152620171\n",
      "960 0.868768328446\n",
      "970 0.866280441158\n",
      "980 0.863504080071\n",
      "990 0.866345786051\n",
      "1000 0.86590112202\n",
      "1010 0.866073250032\n",
      "1020 0.865654086447\n",
      "1030 0.866736261635\n",
      "1040 0.86701198521\n",
      "1050 0.87133431085\n",
      "1060 0.868192974627\n",
      "1070 0.862837880913\n",
      "1080 0.863808491649\n",
      "1090 0.869337307153\n",
      "1100 0.863644332526\n",
      "1110 0.864509753921\n",
      "1120 0.864799821497\n",
      "1130 0.862638658677\n",
      "1140 0.863790960092\n",
      "1150 0.861489544817\n",
      "1160 0.860273492286\n",
      "1170 0.864877916614\n",
      "1180 0.863623613413\n",
      "1190 0.863045072039\n",
      "1200 0.860990692337\n",
      "1210 0.86271197246\n",
      "1220 0.860364337626\n",
      "1230 0.863743146755\n",
      "1240 0.86559830422\n",
      "1250 0.861173976795\n",
      "1260 0.86436631391\n",
      "1270 0.860028050491\n",
      "1280 0.860177865613\n",
      "1290 0.86223543287\n",
      "1300 0.85597826087\n",
      "1310 0.860488652301\n",
      "1320 0.860123677164\n",
      "1330 0.862637064899\n",
      "1340 0.861605890603\n",
      "1350 0.856293828892\n",
      "1360 0.86121541502\n",
      "1370 0.858518742828\n",
      "1380 0.857959326788\n",
      "1390 0.858816779294\n",
      "1400 0.857725041438\n",
      "1410 0.855200497259\n",
      "1420 0.856587084024\n",
      "1430 0.855211653704\n",
      "1440 0.855198903481\n",
      "1450 0.856073887543\n",
      "1460 0.855606910621\n",
      "1470 0.848281907433\n",
      "1480 0.856016511539\n",
      "1490 0.852137256152\n",
      "1500 0.852435292618\n",
      "1510 0.854445046538\n",
      "1520 0.850406413362\n",
      "1530 0.854084852735\n",
      "1540 0.852063942369\n",
      "1550 0.852907050873\n",
      "1560 0.854548642101\n",
      "1570 0.849306706617\n",
      "1580 0.853676845595\n",
      "1590 0.855809320413\n",
      "1600 0.852208976157\n",
      "1610 0.850428726253\n",
      "1620 0.850827170725\n",
      "1630 0.845671299248\n",
      "1640 0.847776679842\n",
      "1650 0.84780058651\n",
      "1660 0.851989034808\n",
      "1670 0.852177100599\n",
      "1680 0.848366377662\n",
      "1690 0.847633239832\n",
      "1700 0.845672893026\n",
      "1710 0.844687938289\n",
      "1720 0.843098941731\n",
      "1730 0.846527157975\n",
      "1740 0.833800841515\n",
      "1750 0.820540609461\n",
      "1760 0.807325003188\n",
      "1770 0.763284138722\n"
     ]
    }
   ],
   "source": [
    "quals = []\n",
    "for i in range(0, 1776, 10):\n",
    "    clf = ensemble.RandomForestClassifier(n_estimators=100)\n",
    "    clf.fit(X[:, low_var_idx[i:]], y)\n",
    "    q = metrics.roc_auc_score(y_test, clf.predict_proba(X_test[:, low_var_idx[i:]])[:, 1])\n",
    "    quals.append(q)\n",
    "    print i, q"
   ]
  },
  {
   "cell_type": "code",
   "execution_count": 21,
   "metadata": {
    "collapsed": false
   },
   "outputs": [
    {
     "data": {
      "image/png": "[encoded data removed]",
      "text/plain": [
       "<matplotlib.figure.Figure at 0x118bee8d0>"
      ]
     },
     "metadata": {},
     "output_type": "display_data"
    }
   ],
   "source": [
    "plt.plot(range(0, 1776, 10), quals)\n",
    "plt.show()"
   ]
  },
  {
   "cell_type": "markdown",
   "metadata": {},
   "source": [
    "#### Одномерные методы"
   ]
  },
  {
   "cell_type": "code",
   "execution_count": 22,
   "metadata": {
    "collapsed": true
   },
   "outputs": [],
   "source": [
    "from sklearn.feature_selection import f_classif"
   ]
  },
  {
   "cell_type": "code",
   "execution_count": 23,
   "metadata": {
    "collapsed": false
   },
   "outputs": [
    {
     "name": "stderr",
     "output_type": "stream",
     "text": [
      "/usr/local/lib/python2.7/site-packages/sklearn/feature_selection/univariate_selection.py:113: UserWarning: Features [71] are constant.\n",
      "  UserWarning)\n"
     ]
    }
   ],
   "source": [
    "var_imp = f_classif(X, y)[1]\n",
    "var_imp[np.isnan(var_imp)] = 1\n",
    "imp_feature_idx = var_imp.argsort()[::-1]"
   ]
  },
  {
   "cell_type": "code",
   "execution_count": 24,
   "metadata": {
    "collapsed": false
   },
   "outputs": [
    {
     "data": {
      "text/plain": [
       "array([  71, 1387,  370, ...,  746,  468,   26])"
      ]
     },
     "execution_count": 24,
     "metadata": {},
     "output_type": "execute_result"
    }
   ],
   "source": [
    "imp_feature_idx"
   ]
  },
  {
   "cell_type": "code",
   "execution_count": 25,
   "metadata": {
    "collapsed": false
   },
   "outputs": [
    {
     "data": {
      "image/png": "[encoded data removed]",
      "text/plain": [
       "<matplotlib.figure.Figure at 0x118bee910>"
      ]
     },
     "metadata": {},
     "output_type": "display_data"
    }
   ],
   "source": [
    "plt.plot(sorted(var_imp))\n",
    "plt.show()"
   ]
  },
  {
   "cell_type": "code",
   "execution_count": 26,
   "metadata": {
    "collapsed": false
   },
   "outputs": [
    {
     "data": {
      "image/png": "[encoded data removed]",
      "text/plain": [
       "<matplotlib.figure.Figure at 0x10c81af50>"
      ]
     },
     "metadata": {},
     "output_type": "display_data"
    }
   ],
   "source": [
    "quals = []\n",
    "for i in range(0, 1776, 10):\n",
    "    clf = linear_model.LogisticRegression(C=0.1)\n",
    "    clf.fit(X[:, imp_feature_idx[i:]], y)\n",
    "    q = metrics.roc_auc_score(y_test, clf.predict_proba(X_test[:, imp_feature_idx[i:]])[:, 1])\n",
    "    quals.append(q)\n",
    "plt.plot(range(0, 1776, 10), quals)\n",
    "plt.show()"
   ]
  },
  {
   "cell_type": "code",
   "execution_count": 27,
   "metadata": {
    "collapsed": false
   },
   "outputs": [
    {
     "data": {
      "text/plain": [
       "0.80808364146372569"
      ]
     },
     "execution_count": 27,
     "metadata": {},
     "output_type": "execute_result"
    }
   ],
   "source": [
    "quals[-10]"
   ]
  },
  {
   "cell_type": "markdown",
   "metadata": {},
   "source": [
    "#### Отбор с помощью Lasso"
   ]
  },
  {
   "cell_type": "code",
   "execution_count": 28,
   "metadata": {
    "collapsed": true
   },
   "outputs": [],
   "source": [
    "from sklearn.svm import l1_min_c\n",
    "c_grid = l1_min_c(X, y, loss='log') * np.logspace(0, 3, 100)"
   ]
  },
  {
   "cell_type": "code",
   "execution_count": 29,
   "metadata": {
    "collapsed": false
   },
   "outputs": [
    {
     "data": {
      "text/plain": [
       "array([ 0.00273598,  0.0029337 ,  0.00314571,  0.00337304,  0.0036168 ,\n",
       "        0.00387818,  0.00415844,  0.00445896,  0.0047812 ,  0.00512672,\n",
       "        0.00549722,  0.00589449,  0.00632046,  0.00677723,  0.007267  ,\n",
       "        0.00779216,  0.00835528,  0.00895909,  0.00960654,  0.01030078,\n",
       "        0.01104519,  0.0118434 ,  0.01269929,  0.01361703,  0.01460109,\n",
       "        0.01565627,  0.01678771,  0.01800091,  0.01930178,  0.02069667,\n",
       "        0.02219236,  0.02379614,  0.02551582,  0.02735978,  0.029337  ,\n",
       "        0.0314571 ,  0.03373042,  0.03616802,  0.03878178,  0.04158443,\n",
       "        0.04458963,  0.04781199,  0.05126723,  0.05497218,  0.05894486,\n",
       "        0.06320464,  0.06777227,  0.07266998,  0.07792164,  0.08355282,\n",
       "        0.08959095,  0.09606544,  0.10300782,  0.11045191,  0.11843396,\n",
       "        0.12699285,  0.13617028,  0.14601092,  0.15656273,  0.16787708,\n",
       "        0.18000909,  0.19301785,  0.20696671,  0.22192362,  0.23796142,\n",
       "        0.25515823,  0.27359781,  0.29336996,  0.314571  ,  0.33730417,\n",
       "        0.3616802 ,  0.38781783,  0.41584435,  0.44589626,  0.47811995,\n",
       "        0.51267235,  0.54972175,  0.58944862,  0.63204643,  0.67772267,\n",
       "        0.7266998 ,  0.77921638,  0.83552818,  0.89590948,  0.96065437,\n",
       "        1.0300782 ,  1.10451909,  1.18433961,  1.26992855,  1.36170275,\n",
       "        1.46010923,  1.56562727,  1.6787708 ,  1.8000909 ,  1.93017847,\n",
       "        2.06966711,  2.2192362 ,  2.37961423,  2.55158234,  2.73597811])"
      ]
     },
     "execution_count": 29,
     "metadata": {},
     "output_type": "execute_result"
    }
   ],
   "source": [
    "c_grid"
   ]
  },
  {
   "cell_type": "code",
   "execution_count": 30,
   "metadata": {
    "collapsed": false
   },
   "outputs": [],
   "source": [
    "n_features = []\n",
    "quals = []\n",
    "for c in c_grid:\n",
    "    clf = linear_model.LogisticRegression(penalty='l1', C=c)\n",
    "    clf.fit(X, y)\n",
    "    q = metrics.roc_auc_score(y_test, clf.predict_proba(X_test)[:, 1])\n",
    "    quals.append(q)\n",
    "    n_features.append(np.sum(clf.coef_ > 0))\n",
    "quals = np.array(quals)\n",
    "n_features = np.array(n_features)"
   ]
  },
  {
   "cell_type": "code",
   "execution_count": 31,
   "metadata": {
    "collapsed": false
   },
   "outputs": [
    {
     "data": {
      "image/png": "[encoded data removed]",
      "text/plain": [
       "<matplotlib.figure.Figure at 0x11e3154d0>"
      ]
     },
     "metadata": {},
     "output_type": "display_data"
    }
   ],
   "source": [
    "plt.plot(n_features, quals)\n",
    "plt.show()"
   ]
  },
  {
   "cell_type": "code",
   "execution_count": 32,
   "metadata": {
    "collapsed": false
   },
   "outputs": [
    {
     "data": {
      "text/plain": [
       "array([ 0.5       ,  0.72885694,  0.72885694,  0.72885694,  0.72885694,\n",
       "        0.72885694,  0.72885694,  0.72885694,  0.72885694,  0.72885694,\n",
       "        0.72885694,  0.72885694,  0.72885694,  0.72885694,  0.74201836,\n",
       "        0.74201836,  0.74201836,  0.75316206,  0.75369438,  0.75800236,\n",
       "        0.75956585,  0.7606305 ,  0.76144651,  0.76240437,  0.76373837,\n",
       "        0.76660079,  0.76773875,  0.76875877,  0.77009913,  0.77319266,\n",
       "        0.7770751 ,  0.78043638,  0.78391081,  0.78638276,  0.7876291 ,\n",
       "        0.78840048,  0.78957988,  0.79022058,  0.79074812,  0.79158963,\n",
       "        0.79258893,  0.79301288,  0.79397871,  0.79529039,  0.79723639,\n",
       "        0.79943262,  0.80183284,  0.80436058,  0.80680862,  0.80899209,\n",
       "        0.81148158,  0.81340048,  0.81508989,  0.81653704,  0.81790131,\n",
       "        0.81957159,  0.82113668,  0.82290578,  0.82387479,  0.82474181,\n",
       "        0.82582239,  0.82685197,  0.82768073])"
      ]
     },
     "execution_count": 32,
     "metadata": {},
     "output_type": "execute_result"
    }
   ],
   "source": [
    "quals[n_features <= 100]"
   ]
  },
  {
   "cell_type": "markdown",
   "metadata": {},
   "source": [
    "#### Отбор с помощью RandomizedLasso"
   ]
  },
  {
   "cell_type": "code",
   "execution_count": 33,
   "metadata": {
    "collapsed": false
   },
   "outputs": [
    {
     "data": {
      "text/plain": [
       "RandomizedLogisticRegression(C=1.0, fit_intercept=True,\n",
       "               memory=Memory(cachedir=None), n_jobs=1, n_resampling=200,\n",
       "               normalize=True, pre_dispatch='3*n_jobs', random_state=None,\n",
       "               sample_fraction=0.75, scaling=0.5, selection_threshold=0.25,\n",
       "               tol=0.001, verbose=False)"
      ]
     },
     "execution_count": 33,
     "metadata": {},
     "output_type": "execute_result"
    }
   ],
   "source": [
    "clf = linear_model.RandomizedLogisticRegression(C=1.0)\n",
    "clf.fit(X, y)"
   ]
  },
  {
   "cell_type": "code",
   "execution_count": 34,
   "metadata": {
    "collapsed": false
   },
   "outputs": [
    {
     "data": {
      "text/plain": [
       "343"
      ]
     },
     "execution_count": 34,
     "metadata": {},
     "output_type": "execute_result"
    }
   ],
   "source": [
    "np.sum(clf.scores_ > 0)"
   ]
  },
  {
   "cell_type": "code",
   "execution_count": 35,
   "metadata": {
    "collapsed": true
   },
   "outputs": [],
   "source": [
    "imp_feature_idx = clf.scores_.argsort()"
   ]
  },
  {
   "cell_type": "code",
   "execution_count": 36,
   "metadata": {
    "collapsed": false
   },
   "outputs": [
    {
     "data": {
      "image/png": "[encoded data removed]",
      "text/plain": [
       "<matplotlib.figure.Figure at 0x10dff4ed0>"
      ]
     },
     "metadata": {},
     "output_type": "display_data"
    }
   ],
   "source": [
    "quals = []\n",
    "for i in range(0, 1776, 10):\n",
    "    clf = linear_model.LogisticRegression(C=0.1)\n",
    "    clf.fit(X[:, imp_feature_idx[i:]], y)\n",
    "    q = metrics.roc_auc_score(y_test, clf.predict_proba(X_test[:, imp_feature_idx[i:]])[:, 1])\n",
    "    quals.append(q)\n",
    "plt.plot(range(0, 1776, 10), quals)\n",
    "plt.show()"
   ]
  },
  {
   "cell_type": "code",
   "execution_count": 37,
   "metadata": {
    "collapsed": false
   },
   "outputs": [
    {
     "data": {
      "text/plain": [
       "0.80920566109906933"
      ]
     },
     "execution_count": 37,
     "metadata": {},
     "output_type": "execute_result"
    }
   ],
   "source": [
    "quals[-10]"
   ]
  },
  {
   "cell_type": "markdown",
   "metadata": {},
   "source": [
    "#### Отбор с помощью RandomForest"
   ]
  },
  {
   "cell_type": "code",
   "execution_count": 38,
   "metadata": {
    "collapsed": false
   },
   "outputs": [
    {
     "data": {
      "text/plain": [
       "RandomForestClassifier(bootstrap=True, class_weight=None, criterion='gini',\n",
       "            max_depth=None, max_features='auto', max_leaf_nodes=None,\n",
       "            min_samples_leaf=1, min_samples_split=2,\n",
       "            min_weight_fraction_leaf=0.0, n_estimators=100, n_jobs=1,\n",
       "            oob_score=False, random_state=None, verbose=0,\n",
       "            warm_start=False)"
      ]
     },
     "execution_count": 38,
     "metadata": {},
     "output_type": "execute_result"
    }
   ],
   "source": [
    "clf = ensemble.RandomForestClassifier(n_estimators=100)\n",
    "clf.fit(X, y)"
   ]
  },
  {
   "cell_type": "code",
   "execution_count": 39,
   "metadata": {
    "collapsed": false
   },
   "outputs": [],
   "source": [
    "imp_feature_idx = clf.feature_importances_.argsort()"
   ]
  },
  {
   "cell_type": "code",
   "execution_count": 40,
   "metadata": {
    "collapsed": false
   },
   "outputs": [
    {
     "data": {
      "image/png": "[encoded data removed]",
      "text/plain": [
       "<matplotlib.figure.Figure at 0x10dff4e90>"
      ]
     },
     "metadata": {},
     "output_type": "display_data"
    }
   ],
   "source": [
    "quals = []\n",
    "for i in range(0, 1776, 10):\n",
    "    clf = linear_model.LogisticRegression(C=0.1)\n",
    "    clf.fit(X[:, imp_feature_idx[i:]], y)\n",
    "    q = metrics.roc_auc_score(y_test, clf.predict_proba(X_test[:, imp_feature_idx[i:]])[:, 1])\n",
    "    quals.append(q)\n",
    "plt.plot(range(0, 1776, 10), quals)\n",
    "plt.show()"
   ]
  },
  {
   "cell_type": "code",
   "execution_count": 41,
   "metadata": {
    "collapsed": false
   },
   "outputs": [
    {
     "data": {
      "text/plain": [
       "0.80406732117812063"
      ]
     },
     "execution_count": 41,
     "metadata": {},
     "output_type": "execute_result"
    }
   ],
   "source": [
    "quals[-10]"
   ]
  },
  {
   "cell_type": "code",
   "execution_count": null,
   "metadata": {
    "collapsed": true
   },
   "outputs": [],
   "source": []
  },
  {
   "cell_type": "code",
   "execution_count": 42,
   "metadata": {
    "collapsed": false
   },
   "outputs": [
    {
     "data": {
      "text/plain": [
       "RandomForestClassifier(bootstrap=True, class_weight=None, criterion='gini',\n",
       "            max_depth=None, max_features='auto', max_leaf_nodes=None,\n",
       "            min_samples_leaf=1, min_samples_split=2,\n",
       "            min_weight_fraction_leaf=0.0, n_estimators=100, n_jobs=1,\n",
       "            oob_score=False, random_state=None, verbose=0,\n",
       "            warm_start=False)"
      ]
     },
     "execution_count": 42,
     "metadata": {},
     "output_type": "execute_result"
    }
   ],
   "source": [
    "clf = ensemble.RandomForestClassifier(n_estimators=100)\n",
    "clf.fit(X, y)"
   ]
  },
  {
   "cell_type": "code",
   "execution_count": 43,
   "metadata": {
    "collapsed": false
   },
   "outputs": [
    {
     "data": {
      "image/png": "[encoded data removed]",
      "text/plain": [
       "<matplotlib.figure.Figure at 0x10c608f10>"
      ]
     },
     "metadata": {},
     "output_type": "display_data"
    }
   ],
   "source": [
    "plt.bar(range(1776), clf.feature_importances_)\n",
    "plt.show()"
   ]
  },
  {
   "cell_type": "code",
   "execution_count": 44,
   "metadata": {
    "collapsed": false
   },
   "outputs": [
    {
     "data": {
      "image/png": "[encoded data removed]",
      "text/plain": [
       "<matplotlib.figure.Figure at 0x10e00ba90>"
      ]
     },
     "metadata": {},
     "output_type": "display_data"
    },
    {
     "data": {
      "image/png": "[encoded data removed]",
      "text/plain": [
       "<matplotlib.figure.Figure at 0x112c0ef50>"
      ]
     },
     "metadata": {},
     "output_type": "display_data"
    },
    {
     "data": {
      "image/png": "[encoded data removed]",
      "text/plain": [
       "<matplotlib.figure.Figure at 0x118c5b850>"
      ]
     },
     "metadata": {},
     "output_type": "display_data"
    },
    {
     "data": {
      "image/png": "[encoded data removed]",
      "text/plain": [
       "<matplotlib.figure.Figure at 0x117ca2550>"
      ]
     },
     "metadata": {},
     "output_type": "display_data"
    }
   ],
   "source": [
    "start = 0\n",
    "step = 500\n",
    "while start < X.shape[1]:\n",
    "    sel = np.arange(start, min(start + step, X.shape[1]))\n",
    "    plt.figure(figsize=(17, 3))\n",
    "    plt.bar(sel, clf.feature_importances_[sel])\n",
    "    plt.ylabel('importance')\n",
    "    start += step"
   ]
  },
  {
   "cell_type": "markdown",
   "metadata": {},
   "source": [
    "#### Метод главных компонент"
   ]
  },
  {
   "cell_type": "code",
   "execution_count": 45,
   "metadata": {
    "collapsed": true
   },
   "outputs": [],
   "source": [
    "from sklearn import decomposition"
   ]
  },
  {
   "cell_type": "code",
   "execution_count": 46,
   "metadata": {
    "collapsed": true
   },
   "outputs": [],
   "source": [
    "pca = decomposition.PCA(n_components=100)\n",
    "X_pca = pca.fit_transform(X, y)\n",
    "X_pca_test = pca.transform(X_test)"
   ]
  },
  {
   "cell_type": "code",
   "execution_count": 47,
   "metadata": {
    "collapsed": false
   },
   "outputs": [
    {
     "name": "stdout",
     "output_type": "stream",
     "text": [
      "0.82184113222\n"
     ]
    }
   ],
   "source": [
    "clf = linear_model.LogisticRegression(C=0.1)\n",
    "clf.fit(X_pca, y)\n",
    "print metrics.roc_auc_score(y_test, clf.predict_proba(X_pca_test)[:, 1])"
   ]
  },
  {
   "cell_type": "markdown",
   "metadata": {},
   "source": [
    "## Более сложный датасет"
   ]
  },
  {
   "cell_type": "markdown",
   "metadata": {},
   "source": [
    "Данные: https://www.kaggle.com/c/loan-default-prediction"
   ]
  },
  {
   "cell_type": "code",
   "execution_count": 48,
   "metadata": {
    "collapsed": false
   },
   "outputs": [
    {
     "name": "stderr",
     "output_type": "stream",
     "text": [
      "/usr/local/lib/python2.7/site-packages/pandas/io/parsers.py:1164: DtypeWarning: Columns (135,204,274,417,462) have mixed types. Specify dtype option on import or set low_memory=False.\n",
      "  data = self._reader.read(nrows)\n"
     ]
    },
    {
     "data": {
      "text/html": [
       "<div style=\"max-height:1000px;max-width:1500px;overflow:auto;\">\n",
       "<table border=\"1\" class=\"dataframe\">\n",
       "  <thead>\n",
       "    <tr style=\"text-align: right;\">\n",
       "      <th></th>\n",
       "      <th>id</th>\n",
       "      <th>f1</th>\n",
       "      <th>f2</th>\n",
       "      <th>f3</th>\n",
       "      <th>f4</th>\n",
       "      <th>f5</th>\n",
       "      <th>f6</th>\n",
       "      <th>f7</th>\n",
       "      <th>f8</th>\n",
       "      <th>f9</th>\n",
       "      <th>...</th>\n",
       "      <th>f770</th>\n",
       "      <th>f771</th>\n",
       "      <th>f772</th>\n",
       "      <th>f773</th>\n",
       "      <th>f774</th>\n",
       "      <th>f775</th>\n",
       "      <th>f776</th>\n",
       "      <th>f777</th>\n",
       "      <th>f778</th>\n",
       "      <th>loss</th>\n",
       "    </tr>\n",
       "  </thead>\n",
       "  <tbody>\n",
       "    <tr>\n",
       "      <th>0</th>\n",
       "      <td>1</td>\n",
       "      <td>126</td>\n",
       "      <td>10</td>\n",
       "      <td>0.686842</td>\n",
       "      <td>1100</td>\n",
       "      <td>3</td>\n",
       "      <td>13699</td>\n",
       "      <td>7201</td>\n",
       "      <td>4949</td>\n",
       "      <td>126.75</td>\n",
       "      <td>...</td>\n",
       "      <td>5</td>\n",
       "      <td>2.14</td>\n",
       "      <td>-1.54</td>\n",
       "      <td>1.18</td>\n",
       "      <td>0.1833</td>\n",
       "      <td>0.7873</td>\n",
       "      <td>1</td>\n",
       "      <td>0</td>\n",
       "      <td>5</td>\n",
       "      <td>0</td>\n",
       "    </tr>\n",
       "    <tr>\n",
       "      <th>1</th>\n",
       "      <td>2</td>\n",
       "      <td>121</td>\n",
       "      <td>10</td>\n",
       "      <td>0.782776</td>\n",
       "      <td>1100</td>\n",
       "      <td>3</td>\n",
       "      <td>84645</td>\n",
       "      <td>240</td>\n",
       "      <td>1625</td>\n",
       "      <td>123.52</td>\n",
       "      <td>...</td>\n",
       "      <td>6</td>\n",
       "      <td>0.54</td>\n",
       "      <td>-0.24</td>\n",
       "      <td>0.13</td>\n",
       "      <td>0.1926</td>\n",
       "      <td>-0.6787</td>\n",
       "      <td>1</td>\n",
       "      <td>0</td>\n",
       "      <td>5</td>\n",
       "      <td>0</td>\n",
       "    </tr>\n",
       "    <tr>\n",
       "      <th>2</th>\n",
       "      <td>3</td>\n",
       "      <td>126</td>\n",
       "      <td>10</td>\n",
       "      <td>0.500080</td>\n",
       "      <td>1100</td>\n",
       "      <td>3</td>\n",
       "      <td>83607</td>\n",
       "      <td>1800</td>\n",
       "      <td>1527</td>\n",
       "      <td>127.76</td>\n",
       "      <td>...</td>\n",
       "      <td>13</td>\n",
       "      <td>2.89</td>\n",
       "      <td>-1.73</td>\n",
       "      <td>1.04</td>\n",
       "      <td>0.2521</td>\n",
       "      <td>0.7258</td>\n",
       "      <td>1</td>\n",
       "      <td>0</td>\n",
       "      <td>5</td>\n",
       "      <td>0</td>\n",
       "    </tr>\n",
       "    <tr>\n",
       "      <th>3</th>\n",
       "      <td>4</td>\n",
       "      <td>134</td>\n",
       "      <td>10</td>\n",
       "      <td>0.439874</td>\n",
       "      <td>1100</td>\n",
       "      <td>3</td>\n",
       "      <td>82642</td>\n",
       "      <td>7542</td>\n",
       "      <td>1730</td>\n",
       "      <td>132.94</td>\n",
       "      <td>...</td>\n",
       "      <td>4</td>\n",
       "      <td>1.29</td>\n",
       "      <td>-0.89</td>\n",
       "      <td>0.66</td>\n",
       "      <td>0.2498</td>\n",
       "      <td>0.7119</td>\n",
       "      <td>1</td>\n",
       "      <td>0</td>\n",
       "      <td>5</td>\n",
       "      <td>0</td>\n",
       "    </tr>\n",
       "    <tr>\n",
       "      <th>4</th>\n",
       "      <td>5</td>\n",
       "      <td>109</td>\n",
       "      <td>9</td>\n",
       "      <td>0.502749</td>\n",
       "      <td>2900</td>\n",
       "      <td>4</td>\n",
       "      <td>79124</td>\n",
       "      <td>89</td>\n",
       "      <td>491</td>\n",
       "      <td>122.72</td>\n",
       "      <td>...</td>\n",
       "      <td>26</td>\n",
       "      <td>6.11</td>\n",
       "      <td>-3.82</td>\n",
       "      <td>2.51</td>\n",
       "      <td>0.2282</td>\n",
       "      <td>-0.5399</td>\n",
       "      <td>0</td>\n",
       "      <td>0</td>\n",
       "      <td>5</td>\n",
       "      <td>0</td>\n",
       "    </tr>\n",
       "  </tbody>\n",
       "</table>\n",
       "<p>5 rows × 771 columns</p>\n",
       "</div>"
      ],
      "text/plain": [
       "   id   f1  f2        f3    f4  f5     f6    f7    f8      f9  ...   f770  \\\n",
       "0   1  126  10  0.686842  1100   3  13699  7201  4949  126.75  ...      5   \n",
       "1   2  121  10  0.782776  1100   3  84645   240  1625  123.52  ...      6   \n",
       "2   3  126  10  0.500080  1100   3  83607  1800  1527  127.76  ...     13   \n",
       "3   4  134  10  0.439874  1100   3  82642  7542  1730  132.94  ...      4   \n",
       "4   5  109   9  0.502749  2900   4  79124    89   491  122.72  ...     26   \n",
       "\n",
       "   f771  f772  f773    f774    f775  f776  f777  f778  loss  \n",
       "0  2.14 -1.54  1.18  0.1833  0.7873     1     0     5     0  \n",
       "1  0.54 -0.24  0.13  0.1926 -0.6787     1     0     5     0  \n",
       "2  2.89 -1.73  1.04  0.2521  0.7258     1     0     5     0  \n",
       "3  1.29 -0.89  0.66  0.2498  0.7119     1     0     5     0  \n",
       "4  6.11 -3.82  2.51  0.2282 -0.5399     0     0     5     0  \n",
       "\n",
       "[5 rows x 771 columns]"
      ]
     },
     "execution_count": 48,
     "metadata": {},
     "output_type": "execute_result"
    }
   ],
   "source": [
    "data = pd.read_csv('loan_default.csv')\n",
    "data.head()"
   ]
  },
  {
   "cell_type": "code",
   "execution_count": 49,
   "metadata": {
    "collapsed": true
   },
   "outputs": [],
   "source": [
    "data = data.fillna(0)"
   ]
  },
  {
   "cell_type": "code",
   "execution_count": 50,
   "metadata": {
    "collapsed": false
   },
   "outputs": [
    {
     "data": {
      "text/plain": [
       "0           11724173453590999285553430528\n",
       "1            6391495663130699779035627520\n",
       "2           36420952401170000260810932224\n",
       "3           15267506423634001098621059072\n",
       "4          238204359524660008028924280832\n",
       "5          479547052714589990280725790720\n",
       "6         1121640214875899989593589547008\n",
       "7          522702201956439972801444577280\n",
       "8          204588615621480008854072721408\n",
       "9          155457932714040006262139125760\n",
       "10          48159788498707001853475815424\n",
       "11         415632267575499996016179937280\n",
       "12         403096269853729980590432714752\n",
       "13         299377379493949998941356425216\n",
       "14         327991368795340015142843711488\n",
       "15         236959168214440004366995816448\n",
       "16         424590962704439980417441857536\n",
       "17         288897822611629983571835355136\n",
       "18          84504882152402994971078033408\n",
       "19          81518308747489999133033365504\n",
       "20          50161351598135003205276270592\n",
       "21          26805434865300998013199581184\n",
       "22          14920200030039000833543110656\n",
       "23          13247127037797999706254606336\n",
       "24          61861914948838004372874985472\n",
       "25         220321439392309996620416548864\n",
       "26         250023075179859996856794742784\n",
       "27         861294380630950059875934142464\n",
       "28         210120743774479987613466886144\n",
       "29          79042118182655002485834383360\n",
       "                       ...               \n",
       "105441      24472059762460001369101172736\n",
       "105442      16502283520778000746934173696\n",
       "105443      51085187003833998616739971072\n",
       "105444      16291776555744000815528935424\n",
       "105445      13728437451238000155745583104\n",
       "105446      69031055257893998546892357632\n",
       "105447       3578996247252699757187956736\n",
       "105448       4710421304520499742042488832\n",
       "105449       4462616412023699916162334720\n",
       "105450        840775536405399954236899328\n",
       "105451        947420066503610011062632448\n",
       "105452       1621404093359200056704499712\n",
       "105453       1733280470097199973059788800\n",
       "105454       7937339257402399482525515776\n",
       "105455      21145021616695998431256117248\n",
       "105456       9386214075658300172777029632\n",
       "105457       9999681814587000606769020928\n",
       "105458      12067188101349999579859255296\n",
       "105459       9732804396040999746513403904\n",
       "105460     601664439562799973820392275968\n",
       "105461     290223235531440012159765970944\n",
       "105462     533021235691229971801540919296\n",
       "105463     495179612409009972592739614720\n",
       "105464     177614793797440012135377666048\n",
       "105465      84371845902651997767740686336\n",
       "105466      27762765708530001013450473472\n",
       "105467      58754613320594997349778980864\n",
       "105468      54786120406877001135723380736\n",
       "105469       1218490675038700032653000704\n",
       "105470      63291223593042002861260537856\n",
       "Name: f626, dtype: object"
      ]
     },
     "execution_count": 50,
     "metadata": {},
     "output_type": "execute_result"
    }
   ],
   "source": [
    "data.iloc[:, 617]"
   ]
  },
  {
   "cell_type": "code",
   "execution_count": 51,
   "metadata": {
    "collapsed": false
   },
   "outputs": [
    {
     "data": {
      "text/plain": [
       "104754"
      ]
     },
     "execution_count": 51,
     "metadata": {},
     "output_type": "execute_result"
    }
   ],
   "source": [
    "np.unique(data.iloc[:, 617].values).size"
   ]
  },
  {
   "cell_type": "code",
   "execution_count": 52,
   "metadata": {
    "collapsed": false
   },
   "outputs": [
    {
     "data": {
      "text/plain": [
       "array([[  1.00000000e+00,  -9.05167658e-04],\n",
       "       [ -9.05167658e-04,   1.00000000e+00]])"
      ]
     },
     "execution_count": 52,
     "metadata": {},
     "output_type": "execute_result"
    }
   ],
   "source": [
    "np.corrcoef(data.iloc[:, 617].astype(float), data.iloc[:, -1])"
   ]
  },
  {
   "cell_type": "code",
   "execution_count": 53,
   "metadata": {
    "collapsed": false
   },
   "outputs": [
    {
     "data": {
      "text/plain": [
       "104662"
      ]
     },
     "execution_count": 53,
     "metadata": {},
     "output_type": "execute_result"
    }
   ],
   "source": [
    "np.unique(data.iloc[:, 388].values).size"
   ]
  },
  {
   "cell_type": "code",
   "execution_count": 54,
   "metadata": {
    "collapsed": false
   },
   "outputs": [],
   "source": [
    "X, X_test, y, y_test = train_test_split(data.iloc[:, 1:-1].values, data.iloc[:, -1].values, test_size=0.3)"
   ]
  },
  {
   "cell_type": "code",
   "execution_count": 55,
   "metadata": {
    "collapsed": false
   },
   "outputs": [
    {
     "data": {
      "text/plain": [
       "(73829, 769)"
      ]
     },
     "execution_count": 55,
     "metadata": {},
     "output_type": "execute_result"
    }
   ],
   "source": [
    "X.shape"
   ]
  },
  {
   "cell_type": "code",
   "execution_count": 56,
   "metadata": {
    "collapsed": false
   },
   "outputs": [
    {
     "data": {
      "image/png": "[encoded data removed]",
      "text/plain": [
       "<matplotlib.figure.Figure at 0x116bee490>"
      ]
     },
     "metadata": {},
     "output_type": "display_data"
    }
   ],
   "source": [
    "plt.hist(y, bins=100)\n",
    "plt.show()"
   ]
  },
  {
   "cell_type": "code",
   "execution_count": 57,
   "metadata": {
    "collapsed": true
   },
   "outputs": [],
   "source": [
    "y = (y > 0).astype(float)\n",
    "y_test = (y_test > 0).astype(float)"
   ]
  },
  {
   "cell_type": "code",
   "execution_count": null,
   "metadata": {
    "collapsed": true
   },
   "outputs": [],
   "source": []
  },
  {
   "cell_type": "code",
   "execution_count": 58,
   "metadata": {
    "collapsed": true
   },
   "outputs": [],
   "source": [
    "X = X.astype(float)\n",
    "X_test = X_test.astype(float)"
   ]
  },
  {
   "cell_type": "code",
   "execution_count": 59,
   "metadata": {
    "collapsed": false
   },
   "outputs": [
    {
     "data": {
      "text/plain": [
       "0"
      ]
     },
     "execution_count": 59,
     "metadata": {},
     "output_type": "execute_result"
    }
   ],
   "source": [
    "np.isnan(X).sum()"
   ]
  },
  {
   "cell_type": "code",
   "execution_count": 60,
   "metadata": {
    "collapsed": false
   },
   "outputs": [
    {
     "data": {
      "text/plain": [
       "8.8981077375823995e+41"
      ]
     },
     "execution_count": 60,
     "metadata": {},
     "output_type": "execute_result"
    }
   ],
   "source": [
    "np.max(X)"
   ]
  },
  {
   "cell_type": "code",
   "execution_count": 61,
   "metadata": {
    "collapsed": false
   },
   "outputs": [
    {
     "data": {
      "text/plain": [
       "array([753, 759, 758,  32, 757,  34, 756,  35, 755, 692,  30, 668, 762,\n",
       "        31, 690, 691, 586,  66,  67, 764, 686,  50,  40, 750, 746, 326,\n",
       "        63, 235, 245, 155, 255, 185, 265, 741, 106, 310, 116, 294,  96,\n",
       "       175, 318, 195, 165, 126, 225,  86, 302, 635, 584, 585, 508, 714,\n",
       "        52, 238,  36,  54,  46,  38,  58,  56,  89,  48,  44,  53,  42,\n",
       "        99,  79,  37,   2, 288, 289, 169, 170, 121, 190, 296, 120, 180,\n",
       "       119, 287, 188, 297, 178, 179, 295, 189, 661, 160, 218, 239, 240,\n",
       "       148, 149, 150, 248, 249, 250, 230, 258, 259, 229, 228, 260, 666,\n",
       "       158, 159, 220, 219, 168, 111,  91, 109,  60, 110, 767, 392,  47,\n",
       "       393,  43, 394, 395, 396,  29, 401, 402, 403,  19,  18,  17,  16,\n",
       "        15,  14,  12,  11, 583, 582, 766,  61,  62,  57,  81, 313, 726,\n",
       "        68,  90, 319, 101, 754, 311, 100,  80, 312, 305, 321, 304, 303,\n",
       "       320, 607, 631, 633, 632, 506, 713, 736, 605, 419, 482, 346, 127,\n",
       "       266, 196, 327, 502, 337, 492, 117,  97,  77, 216, 455, 256, 381,\n",
       "        87, 246, 146, 166, 176, 472, 286, 429, 107, 128, 236, 226, 267,\n",
       "       197, 539, 186, 156, 328, 606, 595, 338,  98, 118, 257, 549, 559,\n",
       "        88, 247, 206, 588,  78, 167, 276, 177, 137, 217, 108, 227, 237,\n",
       "       354, 650, 157, 187, 147, 706, 430, 610, 611, 715, 651, 409, 382,\n",
       "       669, 207, 277, 138, 619, 515, 603, 433, 620, 593, 729, 587, 399,\n",
       "       363, 371,  70,   1, 765, 636, 601, 621, 599, 604, 594, 347, 735,\n",
       "       447, 627, 526,   4, 210, 723, 463, 589, 517, 441, 591, 400, 410,\n",
       "       529, 466, 511, 290, 293, 292, 291, 215, 432,  51, 301, 298, 300,\n",
       "        74, 299, 727, 309, 308, 307, 306,  64, 428, 602,  41,  65, 509,\n",
       "       439, 431, 438, 667, 665, 763, 659, 628, 518, 448, 745, 728, 637,\n",
       "       445,  10, 317, 316, 314, 141, 315, 590, 592, 724, 408, 285, 744,\n",
       "       510, 440, 407,  72, 322, 323, 324, 325, 208, 139, 629, 278, 280,\n",
       "       761, 421, 609, 406, 743, 370, 737, 353, 420, 422, 742, 380, 749,\n",
       "       695, 699,  73, 279, 140, 209, 740, 362, 345, 404,  69, 748, 640,\n",
       "       397, 700, 711, 641, 739, 694, 698, 662, 608, 710, 747, 622, 355,\n",
       "       738, 752,  21,  28, 709, 751, 693, 697, 696, 350, 701, 367, 704,\n",
       "       708, 365, 348, 702, 507, 630, 366,  27, 349,  25, 375, 581,  45,\n",
       "       372,  33, 405, 656, 760, 414, 671, 703, 424,  55, 351, 342, 634,\n",
       "       386, 359,  59, 368,  39,  49, 376, 623, 615,  71, 717, 719, 712,\n",
       "       731,   8, 364, 654, 341,   9,   0, 373, 374,  22, 358, 652, 643,\n",
       "       653, 356, 339, 340, 663,  24, 357,  26, 664, 498, 553, 543, 488,\n",
       "       730, 533, 670, 390, 504, 451, 558, 548, 638, 672, 644, 494, 538,\n",
       "       563, 174, 173, 172, 171, 645, 161, 162, 163, 164, 642, 478, 496,\n",
       "       103, 497, 102, 104, 105, 457, 572, 153, 151, 154, 152, 281, 768,\n",
       "       423, 551, 552, 243, 244, 241, 242, 468, 568,  95,  94,  93,  92,\n",
       "       487, 486, 541, 233, 231, 542, 232, 234, 639, 531, 222, 532, 224,\n",
       "       221, 223, 484, 577, 449, 450,  82,  84,  83,  85, 184, 181, 182,\n",
       "       183, 474, 561, 562, 251, 252, 254, 253, 624, 192, 191, 193, 194,\n",
       "       476, 114, 115, 477, 112, 113, 646, 570, 571, 264, 263, 261, 262,\n",
       "       125, 124, 123, 122, 660,   3, 444, 598, 436, 454, 491, 481,   6,\n",
       "       501, 462, 471, 514, 566, 546, 536, 575, 556,   7, 525, 683, 655,\n",
       "       580, 579, 673, 675, 680, 678, 732, 391, 282, 718, 425, 142, 512,\n",
       "       442, 596,  75, 211, 434, 131,   5, 625, 275, 136, 270, 733, 200,\n",
       "       513, 205, 129, 268, 597, 443, 331, 198, 435, 143, 212,  76, 130,\n",
       "       269, 413, 199, 336, 418, 329, 377, 657, 676, 681, 674, 426, 330,\n",
       "       411, 283, 679, 647, 412, 332,  23, 720, 626, 600, 437, 446, 516,\n",
       "       499, 489, 554, 534, 544, 452, 734, 144, 479, 564, 522, 459, 469,\n",
       "       573, 213, 725, 465, 528, 689, 707, 201, 520, 271, 521,  13, 132,\n",
       "       427, 677, 378, 682, 658, 284, 519, 343, 360, 705, 721, 145, 648,\n",
       "       214, 500, 389, 618, 490, 555, 535, 545, 385, 614, 453, 383, 612,\n",
       "       352, 384,  20, 613, 398, 369, 379, 716, 565, 480, 361, 344, 722,\n",
       "       574, 470, 523, 460, 687, 684, 649, 503, 333, 557, 493, 547, 537,\n",
       "       456, 415, 202, 133, 272, 567, 483, 576, 473, 505, 560, 495, 550,\n",
       "       540, 458, 569, 485, 578, 475, 524, 334, 461, 416, 134, 203, 273,\n",
       "       688, 685, 335, 417, 135, 204, 274, 527, 464, 387, 616, 530, 467,\n",
       "       388, 617])"
      ]
     },
     "execution_count": 61,
     "metadata": {},
     "output_type": "execute_result"
    }
   ],
   "source": [
    "max_f_val = np.max(X, axis=0)\n",
    "max_f_val.argsort()"
   ]
  },
  {
   "cell_type": "code",
   "execution_count": 62,
   "metadata": {
    "collapsed": false
   },
   "outputs": [
    {
     "data": {
      "text/plain": [
       "634000000000.0"
      ]
     },
     "execution_count": 62,
     "metadata": {},
     "output_type": "execute_result"
    }
   ],
   "source": [
    "max_f_val[684]"
   ]
  },
  {
   "cell_type": "code",
   "execution_count": 63,
   "metadata": {
    "collapsed": false
   },
   "outputs": [
    {
     "data": {
      "text/plain": [
       "array([  1.61240832e+38,   3.17649047e+39,   2.05342125e+39, ...,\n",
       "         7.90676860e+37,   3.80992663e+39,   2.45861011e+40])"
      ]
     },
     "execution_count": 63,
     "metadata": {},
     "output_type": "execute_result"
    }
   ],
   "source": [
    "X[:, 617]"
   ]
  },
  {
   "cell_type": "code",
   "execution_count": 64,
   "metadata": {
    "collapsed": true
   },
   "outputs": [],
   "source": [
    "X[np.abs(X) > 100000] = 100000\n",
    "X_test[np.abs(X_test) > 100000] = 100000"
   ]
  },
  {
   "cell_type": "markdown",
   "metadata": {},
   "source": [
    "#### Обычная логистическая регрессия\n"
   ]
  },
  {
   "cell_type": "code",
   "execution_count": 65,
   "metadata": {
    "collapsed": false
   },
   "outputs": [
    {
     "name": "stdout",
     "output_type": "stream",
     "text": [
      "0.581326032132\n"
     ]
    }
   ],
   "source": [
    "clf = linear_model.LogisticRegression(C=0.1)\n",
    "clf.fit(X[:1000, :], y[:1000])\n",
    "print metrics.roc_auc_score(y_test, clf.predict_proba(X_test)[:, 1])"
   ]
  },
  {
   "cell_type": "markdown",
   "metadata": {},
   "source": [
    "#### Одномерный отбор"
   ]
  },
  {
   "cell_type": "code",
   "execution_count": 66,
   "metadata": {
    "collapsed": false,
    "scrolled": true
   },
   "outputs": [
    {
     "name": "stderr",
     "output_type": "stream",
     "text": [
      "/usr/local/lib/python2.7/site-packages/sklearn/feature_selection/univariate_selection.py:113: UserWarning: Features [ 30  31  32  34  35 668 690 691 692 721 722 726 754] are constant.\n",
      "  UserWarning)\n"
     ]
    }
   ],
   "source": [
    "var_imp = f_classif(X, y)[1]\n",
    "var_imp[np.isnan(var_imp)] = 1\n",
    "imp_feature_idx = var_imp.argsort()[::-1]"
   ]
  },
  {
   "cell_type": "code",
   "execution_count": 67,
   "metadata": {
    "collapsed": false
   },
   "outputs": [
    {
     "data": {
      "text/plain": [
       "[<matplotlib.lines.Line2D at 0x123c58d10>]"
      ]
     },
     "execution_count": 67,
     "metadata": {},
     "output_type": "execute_result"
    },
    {
     "data": {
      "image/png": "[encoded data removed]",
      "text/plain": [
       "<matplotlib.figure.Figure at 0x12d470590>"
      ]
     },
     "metadata": {},
     "output_type": "display_data"
    }
   ],
   "source": [
    "plt.plot(sorted(var_imp))"
   ]
  },
  {
   "cell_type": "code",
   "execution_count": 68,
   "metadata": {
    "collapsed": false
   },
   "outputs": [
    {
     "name": "stdout",
     "output_type": "stream",
     "text": [
      "0.641804516133\n"
     ]
    }
   ],
   "source": [
    "clf = linear_model.LogisticRegression(C=0.1)\n",
    "clf.fit(X[:, imp_feature_idx[-10:]], y)\n",
    "print metrics.roc_auc_score(y_test, \n",
    "            clf.predict_proba(X_test[:, imp_feature_idx[-10:]])[:, 1])"
   ]
  },
  {
   "cell_type": "markdown",
   "metadata": {},
   "source": [
    "#### Lasso"
   ]
  },
  {
   "cell_type": "code",
   "execution_count": 69,
   "metadata": {
    "collapsed": false
   },
   "outputs": [
    {
     "name": "stdout",
     "output_type": "stream",
     "text": [
      "0.581819408966\n",
      "143\n"
     ]
    }
   ],
   "source": [
    "clf = linear_model.LogisticRegression(penalty='l1', C=0.1)\n",
    "clf.fit(X[:1000, :], y[:1000])\n",
    "print metrics.roc_auc_score(y_test, clf.predict_proba(X_test)[:, 1])\n",
    "print np.sum(clf.coef_ > 0)"
   ]
  },
  {
   "cell_type": "markdown",
   "metadata": {},
   "source": [
    "#### Random Forest"
   ]
  },
  {
   "cell_type": "code",
   "execution_count": 70,
   "metadata": {
    "collapsed": false
   },
   "outputs": [
    {
     "name": "stdout",
     "output_type": "stream",
     "text": [
      "0.585320495981\n"
     ]
    }
   ],
   "source": [
    "clf = ensemble.RandomForestClassifier(n_estimators=100)\n",
    "clf.fit(X.astype(float)[:1000, :], y[:1000])\n",
    "print metrics.roc_auc_score(y_test, clf.predict_proba(X_test)[:, 1])"
   ]
  },
  {
   "cell_type": "code",
   "execution_count": 71,
   "metadata": {
    "collapsed": false
   },
   "outputs": [
    {
     "data": {
      "image/png": "[encoded data removed]",
      "text/plain": [
       "<matplotlib.figure.Figure at 0x10dbd5510>"
      ]
     },
     "metadata": {},
     "output_type": "display_data"
    }
   ],
   "source": [
    "plt.plot(sorted(clf.feature_importances_))\n",
    "plt.show()"
   ]
  },
  {
   "cell_type": "code",
   "execution_count": null,
   "metadata": {
    "collapsed": true
   },
   "outputs": [],
   "source": []
  }
 ],
 "metadata": {
  "kernelspec": {
   "display_name": "Python 2",
   "language": "python",
   "name": "python2"
  },
  "language_info": {
   "codemirror_mode": {
    "name": "ipython",
    "version": 2
   },
   "file_extension": ".py",
   "mimetype": "text/x-python",
   "name": "python",
   "nbconvert_exporter": "python",
   "pygments_lexer": "ipython2",
   "version": "2.7.10"
  }
 },
 "nbformat": 4,
 "nbformat_minor": 0
}
